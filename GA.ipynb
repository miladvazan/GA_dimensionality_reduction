{
 "cells": [
  {
   "cell_type": "code",
   "execution_count": 1,
   "id": "521f784f",
   "metadata": {},
   "outputs": [
    {
     "name": "stdout",
     "output_type": "stream",
     "text": [
      "Selected Features: [0, 2, 5, 7, 8, 9, 11, 12, 13, 14, 16, 18]\n"
     ]
    }
   ],
   "source": [
    "import numpy as np\n",
    "from sklearn.datasets import make_classification\n",
    "from sklearn.model_selection import train_test_split\n",
    "from sklearn.neighbors import KNeighborsClassifier\n",
    "from sklearn.metrics import accuracy_score\n",
    "\n",
    "# Generate artificial data\n",
    "X, y = make_classification(n_samples=1000, n_features=20, n_informative=10, n_redundant=5, random_state=42)\n",
    "\n",
    "# Split the data into training and testing sets\n",
    "X_train, X_test, y_train, y_test = train_test_split(X, y, test_size=0.2, random_state=42)\n",
    "\n",
    "# Define the evaluation function (using KNN as a classifier)\n",
    "def evaluate(individual):\n",
    "    # Get indices of selected features\n",
    "    indices = [i for i, feature in enumerate(individual) if feature]\n",
    "    # Extract selected features\n",
    "    X_train_selected = X_train[:, indices]\n",
    "    X_test_selected = X_test[:, indices]\n",
    "    # Train a classifier\n",
    "    clf = KNeighborsClassifier(n_neighbors=5)\n",
    "    clf.fit(X_train_selected, y_train)\n",
    "    # Predict on the test set\n",
    "    y_pred = clf.predict(X_test_selected)\n",
    "    # Calculate accuracy\n",
    "    accuracy = accuracy_score(y_test, y_pred)\n",
    "    # Return the fitness value (accuracy)\n",
    "    return accuracy\n",
    "\n",
    "# Genetic Algorithm parameters\n",
    "population_size = 100\n",
    "chromosome_length = X.shape[1]\n",
    "mutation_rate = 0.1\n",
    "generations = 50\n",
    "\n",
    "# Create the initial population\n",
    "population = np.random.randint(0, 2, size=(population_size, chromosome_length)).astype(bool)\n",
    "\n",
    "# Run the Genetic Algorithm\n",
    "for generation in range(generations):\n",
    "    # Evaluate the fitness of individuals\n",
    "    fitness_values = np.array([evaluate(individual) for individual in population])\n",
    "    \n",
    "    # Select parents for reproduction (roulette wheel selection)\n",
    "    fitness_sum = np.sum(fitness_values)\n",
    "    probabilities = fitness_values / fitness_sum\n",
    "    cumulative_probabilities = np.cumsum(probabilities)\n",
    "    \n",
    "    offspring = []\n",
    "    for _ in range(population_size):\n",
    "        # Select two parents\n",
    "        parent1_idx = np.searchsorted(cumulative_probabilities, np.random.random())\n",
    "        parent2_idx = np.searchsorted(cumulative_probabilities, np.random.random())\n",
    "        parent1 = population[parent1_idx]\n",
    "        parent2 = population[parent2_idx]\n",
    "        \n",
    "        # Perform crossover (single-point crossover)\n",
    "        crossover_point = np.random.randint(1, chromosome_length)\n",
    "        child = np.concatenate((parent1[:crossover_point], parent2[crossover_point:]))\n",
    "        \n",
    "        # Perform mutation (bit-flip mutation)\n",
    "        for i in range(chromosome_length):\n",
    "            if np.random.random() < mutation_rate:\n",
    "                child[i] = not child[i]\n",
    "        \n",
    "        offspring.append(child)\n",
    "    \n",
    "    # Replace the old population with the offspring\n",
    "    population = np.array(offspring)\n",
    "\n",
    "# Select the best individual from the final population\n",
    "best_individual_idx = np.argmax([evaluate(individual) for individual in population])\n",
    "best_individual = population[best_individual_idx]\n",
    "selected_features = [i for i, feature in enumerate(best_individual) if feature]\n",
    "\n",
    "# Print the selected features\n",
    "print(\"Selected Features:\", selected_features)"
   ]
  },
  {
   "cell_type": "code",
   "execution_count": null,
   "id": "42ab4d06",
   "metadata": {},
   "outputs": [],
   "source": []
  }
 ],
 "metadata": {
  "hide_input": false,
  "kernelspec": {
   "display_name": "Python 3 (ipykernel)",
   "language": "python",
   "name": "python3"
  },
  "language_info": {
   "codemirror_mode": {
    "name": "ipython",
    "version": 3
   },
   "file_extension": ".py",
   "mimetype": "text/x-python",
   "name": "python",
   "nbconvert_exporter": "python",
   "pygments_lexer": "ipython3",
   "version": "3.9.9"
  }
 },
 "nbformat": 4,
 "nbformat_minor": 5
}
